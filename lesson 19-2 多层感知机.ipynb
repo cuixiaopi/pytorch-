{
 "cells": [
  {
   "cell_type": "code",
   "execution_count": 2,
   "metadata": {},
   "outputs": [
    {
     "data": {
      "text/plain": [
       "tensor(0.5104, grad_fn=<MseLossBackward>)"
      ]
     },
     "execution_count": 2,
     "metadata": {},
     "output_type": "execute_result"
    }
   ],
   "source": [
    "import torch\n",
    "from torch.nn import functional as F\n",
    "x=torch.randn(1,10)\n",
    "w=torch.randn(2,10,requires_grad=True)#10个输入 两个输出的感知机\n",
    "o=torch.sigmoid(x@w.t())\n",
    "loss=F.mse_loss(torch.ones(1,2),o)\n",
    "loss"
   ]
  },
  {
   "cell_type": "code",
   "execution_count": 3,
   "metadata": {},
   "outputs": [],
   "source": [
    "loss.backward()"
   ]
  },
  {
   "cell_type": "code",
   "execution_count": 5,
   "metadata": {},
   "outputs": [
    {
     "data": {
      "text/plain": [
       "tensor([[ 0.0666, -0.0533,  0.0499, -0.0075, -0.0228,  0.0552, -0.1252,  0.0954,\n",
       "          0.0953, -0.0893],\n",
       "        [ 0.0734, -0.0588,  0.0550, -0.0083, -0.0251,  0.0609, -0.1380,  0.1051,\n",
       "          0.1051, -0.0984]])"
      ]
     },
     "execution_count": 5,
     "metadata": {},
     "output_type": "execute_result"
    }
   ],
   "source": [
    "w.grad"
   ]
  },
  {
   "cell_type": "code",
   "execution_count": null,
   "metadata": {},
   "outputs": [],
   "source": []
  }
 ],
 "metadata": {
  "kernelspec": {
   "display_name": "Python 3",
   "language": "python",
   "name": "python3"
  },
  "language_info": {
   "codemirror_mode": {
    "name": "ipython",
    "version": 3
   },
   "file_extension": ".py",
   "mimetype": "text/x-python",
   "name": "python",
   "nbconvert_exporter": "python",
   "pygments_lexer": "ipython3",
   "version": "3.7.6"
  }
 },
 "nbformat": 4,
 "nbformat_minor": 4
}
