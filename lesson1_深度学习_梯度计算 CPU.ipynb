{
 "cells": [
  {
   "cell_type": "code",
   "execution_count": 5,
   "metadata": {},
   "outputs": [
    {
     "name": "stdout",
     "output_type": "stream",
     "text": [
      "tensor([[-1.5385, -0.4524],\n",
      "        [ 0.2492, -1.5037]], requires_grad=True)\n"
     ]
    }
   ],
   "source": [
    "import torch #导出包\n",
    "a=torch.randn(2,2,requires_grad=True)#随机矩阵2*2 梯度需要回传 http://www.imooc.com/article/282785\n",
    "print(a)#打印a"
   ]
  },
  {
   "cell_type": "code",
   "execution_count": 10,
   "metadata": {},
   "outputs": [
    {
     "name": "stdout",
     "output_type": "stream",
     "text": [
      "1.7.0+cpu\n",
      "False\n",
      "tensor([[  8.5406, -33.4901,  22.4228,  ...,  20.7483, -25.4220,  36.2472],\n",
      "        [ -2.0632,  -4.3330,  -6.8543,  ...,  50.6221,   0.9619,   3.5539],\n",
      "        [-21.2484,  46.4704, -20.6733,  ...,  19.9191,  29.4552, -51.5773],\n",
      "        ...,\n",
      "        [  9.7814, -16.6600, -16.3109,  ...,  10.4525,   7.9594,  21.2604],\n",
      "        [-25.5473,   5.4510, -26.1965,  ...,  22.8937,  81.6671, -45.9704],\n",
      "        [-19.9500,   1.0496, -25.0992,  ...,  62.3786, -55.3084,  37.6104]])\n",
      "tensor([[  8.5406, -33.4901,  22.4228,  ...,  20.7483, -25.4220,  36.2472],\n",
      "        [ -2.0632,  -4.3330,  -6.8543,  ...,  50.6221,   0.9619,   3.5539],\n",
      "        [-21.2484,  46.4704, -20.6733,  ...,  19.9191,  29.4552, -51.5773],\n",
      "        ...,\n",
      "        [  9.7814, -16.6600, -16.3109,  ...,  10.4525,   7.9594,  21.2604],\n",
      "        [-25.5473,   5.4510, -26.1965,  ...,  22.8937,  81.6671, -45.9704],\n",
      "        [-19.9500,   1.0496, -25.0992,  ...,  62.3786, -55.3084,  37.6104]])\n",
      "cpu 0.37100768089294434 tensor(140861.9844)\n"
     ]
    },
    {
     "ename": "AssertionError",
     "evalue": "Torch not compiled with CUDA enabled",
     "output_type": "error",
     "traceback": [
      "\u001b[1;31m---------------------------------------------------------------------------\u001b[0m",
      "\u001b[1;31mAssertionError\u001b[0m                            Traceback (most recent call last)",
      "\u001b[1;32m<ipython-input-10-fc72424107ba>\u001b[0m in \u001b[0;36m<module>\u001b[1;34m\u001b[0m\n\u001b[0;32m     26\u001b[0m \u001b[0mdevice\u001b[0m \u001b[1;33m=\u001b[0m \u001b[0mtorch\u001b[0m\u001b[1;33m.\u001b[0m\u001b[0mdevice\u001b[0m\u001b[1;33m(\u001b[0m\u001b[1;34m'cuda'\u001b[0m\u001b[1;33m)\u001b[0m\u001b[1;33m\u001b[0m\u001b[1;33m\u001b[0m\u001b[0m\n\u001b[0;32m     27\u001b[0m \u001b[1;31m#a ，b 数据迁移到gpu上\u001b[0m\u001b[1;33m\u001b[0m\u001b[1;33m\u001b[0m\u001b[1;33m\u001b[0m\u001b[0m\n\u001b[1;32m---> 28\u001b[1;33m \u001b[0ma\u001b[0m \u001b[1;33m=\u001b[0m \u001b[0ma\u001b[0m\u001b[1;33m.\u001b[0m\u001b[0mto\u001b[0m\u001b[1;33m(\u001b[0m\u001b[0mdevice\u001b[0m\u001b[1;33m)\u001b[0m\u001b[1;33m\u001b[0m\u001b[1;33m\u001b[0m\u001b[0m\n\u001b[0m\u001b[0;32m     29\u001b[0m \u001b[0mb\u001b[0m \u001b[1;33m=\u001b[0m \u001b[0mb\u001b[0m\u001b[1;33m.\u001b[0m\u001b[0mto\u001b[0m\u001b[1;33m(\u001b[0m\u001b[0mdevice\u001b[0m\u001b[1;33m)\u001b[0m\u001b[1;33m\u001b[0m\u001b[1;33m\u001b[0m\u001b[0m\n\u001b[0;32m     30\u001b[0m \u001b[1;31m#时间差计算（含初始化）\u001b[0m\u001b[1;33m\u001b[0m\u001b[1;33m\u001b[0m\u001b[1;33m\u001b[0m\u001b[0m\n",
      "\u001b[1;32m~\\anaconda3\\lib\\site-packages\\torch\\cuda\\__init__.py\u001b[0m in \u001b[0;36m_lazy_init\u001b[1;34m()\u001b[0m\n\u001b[0;32m    164\u001b[0m                 \"Cannot re-initialize CUDA in forked subprocess. \" + msg)\n\u001b[0;32m    165\u001b[0m         \u001b[1;32mif\u001b[0m \u001b[1;32mnot\u001b[0m \u001b[0mhasattr\u001b[0m\u001b[1;33m(\u001b[0m\u001b[0mtorch\u001b[0m\u001b[1;33m.\u001b[0m\u001b[0m_C\u001b[0m\u001b[1;33m,\u001b[0m \u001b[1;34m'_cuda_getDeviceCount'\u001b[0m\u001b[1;33m)\u001b[0m\u001b[1;33m:\u001b[0m\u001b[1;33m\u001b[0m\u001b[1;33m\u001b[0m\u001b[0m\n\u001b[1;32m--> 166\u001b[1;33m             \u001b[1;32mraise\u001b[0m \u001b[0mAssertionError\u001b[0m\u001b[1;33m(\u001b[0m\u001b[1;34m\"Torch not compiled with CUDA enabled\"\u001b[0m\u001b[1;33m)\u001b[0m\u001b[1;33m\u001b[0m\u001b[1;33m\u001b[0m\u001b[0m\n\u001b[0m\u001b[0;32m    167\u001b[0m         \u001b[1;32mif\u001b[0m \u001b[0m_cudart\u001b[0m \u001b[1;32mis\u001b[0m \u001b[1;32mNone\u001b[0m\u001b[1;33m:\u001b[0m\u001b[1;33m\u001b[0m\u001b[1;33m\u001b[0m\u001b[0m\n\u001b[0;32m    168\u001b[0m             raise AssertionError(\n",
      "\u001b[1;31mAssertionError\u001b[0m: Torch not compiled with CUDA enabled"
     ]
    }
   ],
   "source": [
    "#gpu cpu 运行比较 通过矩阵相乘例子\n",
    "# 导出torch time 包\n",
    "import torch\n",
    "import  time\n",
    "#输出torch 版本号\n",
    "print(torch.__version__)\n",
    "#cuda 是否可用\n",
    "print(torch.cuda.is_available())\n",
    "# print('hello, world.')\n",
    "a = torch.randn(10000, 1000) #维度二维 10000*1000 矩阵 张量\n",
    "b = torch.randn(1000, 2000)\n",
    "#测量当前时间 time包下的time（）函数\n",
    "t0 = time.time()\n",
    "#torch 包下的乘法函数 简写mm\n",
    "#矩阵相乘有torch.mm和torch.matmul两个函数。其中前一个是针对二维矩阵，后一个是高维。\n",
    "c1 = torch.matmul(a, b)\n",
    "c2=torch.mm(a,b)\n",
    "print(c1)\n",
    "print(c2)\n",
    "#再次测量当前时间\n",
    "t1 = time.time()\n",
    "# 再a当前设备环境下求时间差，norm计算张量c1的2 范数 \n",
    "#L1范数[公式]：为x向量各个元素绝对值之和；\n",
    "#L2范数[公式]：为x向量各个元素平方和的开方。\n",
    "#s输出a计算的平台 时间差 c1矩阵的2范数 \n",
    "print(a.device, t1 - t0, c1.norm(2))\n",
    "\n",
    "#torch 的加载驱动是cuda\n",
    "device = torch.device('cuda')\n",
    "#a ，b 数据迁移到gpu上\n",
    "a = a.to(device)\n",
    "b = b.to(device)\n",
    "#时间差计算（含初始化）\n",
    "t0 = time.time()\n",
    "c = torch.matmul(a, b)\n",
    "t2 = time.time()\n",
    "print(a.device, t2 - t0, c.norm(2))\n",
    "#时间差计算不含初始化\n",
    "t0 = time.time()\n",
    "c = torch.matmul(a, b)\n",
    "t2 = time.time()\n",
    "print(a.device, t2 - t0, c.norm(2))\n",
    "\n",
    "\n"
   ]
  },
  {
   "cell_type": "code",
   "execution_count": 23,
   "metadata": {},
   "outputs": [
    {
     "name": "stdout",
     "output_type": "stream",
     "text": [
      "tensor(1.)\n",
      "before: None None None\n",
      "after : tensor(2.) tensor(1.) tensor(1.)\n"
     ]
    }
   ],
   "source": [
    "#计算梯度信息\n",
    "#from  A   import   B 和import A两种方式的导入之后，\n",
    "#在函数的使用上不同。前者的函数可以直接使用，而后者如果想使用A模块中的B函数时，需要使用\"A.B\"。\n",
    "import  torch\n",
    "from    torch import autograd\n",
    "\n",
    "#x是维度1*1的张量 数据是1.\n",
    "x = torch.tensor(1.)\n",
    "print(x)\n",
    "#y = torch.tensor(1)\n",
    "#print(y)\n",
    "\n",
    "#y=a^2 * x +bx+c\n",
    "#类似设置超参数\n",
    "a = torch.tensor(1., requires_grad=True)\n",
    "b = torch.tensor(2., requires_grad=True)\n",
    "c = torch.tensor(3., requires_grad=True)\n",
    "\n",
    "y = a**2 * x + b * x + c\n",
    "#a，b，c并没有相对的梯度信息\n",
    "print('before:', a.grad, b.grad, c.grad)\n",
    "#autograd包方法中grad（）函数 计算 y相对于abc的梯度。输出结果映射到grads中\n",
    "grads = autograd.grad(y, [a, b, c])\n",
    "print('after :', grads[0], grads[1], grads[2])\n"
   ]
  },
  {
   "cell_type": "code",
   "execution_count": null,
   "metadata": {},
   "outputs": [],
   "source": []
  },
  {
   "cell_type": "code",
   "execution_count": null,
   "metadata": {},
   "outputs": [],
   "source": []
  }
 ],
 "metadata": {
  "kernelspec": {
   "display_name": "Python 3",
   "language": "python",
   "name": "python3"
  },
  "language_info": {
   "codemirror_mode": {
    "name": "ipython",
    "version": 3
   },
   "file_extension": ".py",
   "mimetype": "text/x-python",
   "name": "python",
   "nbconvert_exporter": "python",
   "pygments_lexer": "ipython3",
   "version": "3.7.6"
  }
 },
 "nbformat": 4,
 "nbformat_minor": 4
}
