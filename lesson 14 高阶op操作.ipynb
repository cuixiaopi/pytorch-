{
 "cells": [
  {
   "cell_type": "code",
   "execution_count": 1,
   "metadata": {},
   "outputs": [],
   "source": [
    "#where 根据条件取值\n",
    "import torch\n",
    "cond=torch.tensor([[0.2,0.6],[0.52,0.21]])\n",
    "a=torch.ones(2,2)\n",
    "b=torch.zeros(2,2)"
   ]
  },
  {
   "cell_type": "code",
   "execution_count": 2,
   "metadata": {},
   "outputs": [
    {
     "data": {
      "text/plain": [
       "tensor([[1., 1.],\n",
       "        [1., 1.]])"
      ]
     },
     "execution_count": 2,
     "metadata": {},
     "output_type": "execute_result"
    }
   ],
   "source": [
    "a"
   ]
  },
  {
   "cell_type": "code",
   "execution_count": 3,
   "metadata": {},
   "outputs": [
    {
     "data": {
      "text/plain": [
       "tensor([[0., 0.],\n",
       "        [0., 0.]])"
      ]
     },
     "execution_count": 3,
     "metadata": {},
     "output_type": "execute_result"
    }
   ],
   "source": [
    "b"
   ]
  },
  {
   "cell_type": "code",
   "execution_count": 4,
   "metadata": {},
   "outputs": [
    {
     "data": {
      "text/plain": [
       "tensor([[0., 1.],\n",
       "        [1., 0.]])"
      ]
     },
     "execution_count": 4,
     "metadata": {},
     "output_type": "execute_result"
    }
   ],
   "source": [
    "torch.where(cond>0.5,a,b) #cond>0.5，则取a的值，反之，取b的值"
   ]
  },
  {
   "cell_type": "code",
   "execution_count": 5,
   "metadata": {},
   "outputs": [
    {
     "data": {
      "text/plain": [
       "tensor([[ 0.1337, -0.0178,  0.3801,  0.8936, -1.1834,  0.8309, -1.9054,  0.1271,\n",
       "         -0.0213,  0.9316],\n",
       "        [ 1.1484, -0.6181,  0.1286, -0.5846, -1.5910,  1.7089, -1.6684,  0.9827,\n",
       "         -1.7316,  0.3281],\n",
       "        [-0.1860, -0.5036,  0.6032, -0.7732, -1.3863,  0.0441,  1.3877,  1.6864,\n",
       "         -1.5450,  1.0775],\n",
       "        [-0.3077, -0.7647, -0.2238,  0.7246,  0.0525,  0.5213,  0.7277, -0.3629,\n",
       "         -0.0824, -1.1100]])"
      ]
     },
     "execution_count": 5,
     "metadata": {},
     "output_type": "execute_result"
    }
   ],
   "source": [
    "#gather 根据索引，返回当前表中索引下的数据\n",
    "prob=torch.randn(4,10)\n",
    "prob"
   ]
  },
  {
   "cell_type": "code",
   "execution_count": 6,
   "metadata": {},
   "outputs": [
    {
     "data": {
      "text/plain": [
       "torch.return_types.topk(\n",
       "values=tensor([[0.9316, 0.8936, 0.8309],\n",
       "        [1.7089, 1.1484, 0.9827],\n",
       "        [1.6864, 1.3877, 1.0775],\n",
       "        [0.7277, 0.7246, 0.5213]]),\n",
       "indices=tensor([[9, 3, 5],\n",
       "        [5, 0, 7],\n",
       "        [7, 6, 9],\n",
       "        [6, 3, 5]]))"
      ]
     },
     "execution_count": 6,
     "metadata": {},
     "output_type": "execute_result"
    }
   ],
   "source": [
    "idx=prob.topk(dim=1,k=3)\n",
    "idx"
   ]
  },
  {
   "cell_type": "code",
   "execution_count": 7,
   "metadata": {},
   "outputs": [
    {
     "data": {
      "text/plain": [
       "tensor([[9, 3, 5],\n",
       "        [5, 0, 7],\n",
       "        [7, 6, 9],\n",
       "        [6, 3, 5]])"
      ]
     },
     "execution_count": 7,
     "metadata": {},
     "output_type": "execute_result"
    }
   ],
   "source": [
    "idx=idx[1]\n",
    "idx"
   ]
  },
  {
   "cell_type": "code",
   "execution_count": 9,
   "metadata": {},
   "outputs": [
    {
     "data": {
      "text/plain": [
       "tensor([100, 101, 102, 103, 104, 105, 106, 107, 108, 109])"
      ]
     },
     "execution_count": 9,
     "metadata": {},
     "output_type": "execute_result"
    }
   ],
   "source": [
    "laber=torch.arange(10)+100\n",
    "laber"
   ]
  },
  {
   "cell_type": "code",
   "execution_count": 10,
   "metadata": {},
   "outputs": [
    {
     "data": {
      "text/plain": [
       "tensor([[109, 103, 105],\n",
       "        [105, 100, 107],\n",
       "        [107, 106, 109],\n",
       "        [106, 103, 105]])"
      ]
     },
     "execution_count": 10,
     "metadata": {},
     "output_type": "execute_result"
    }
   ],
   "source": [
    "torch.gather(laber.expand(4,10),dim=1,index=idx) #再expend表中的第一维度中，找出索引等于idx的"
   ]
  },
  {
   "cell_type": "code",
   "execution_count": null,
   "metadata": {},
   "outputs": [],
   "source": []
  }
 ],
 "metadata": {
  "kernelspec": {
   "display_name": "Python 3",
   "language": "python",
   "name": "python3"
  },
  "language_info": {
   "codemirror_mode": {
    "name": "ipython",
    "version": 3
   },
   "file_extension": ".py",
   "mimetype": "text/x-python",
   "name": "python",
   "nbconvert_exporter": "python",
   "pygments_lexer": "ipython3",
   "version": "3.7.6"
  }
 },
 "nbformat": 4,
 "nbformat_minor": 4
}
