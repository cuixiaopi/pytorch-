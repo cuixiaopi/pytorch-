{
 "cells": [
  {
   "cell_type": "code",
   "execution_count": 5,
   "metadata": {},
   "outputs": [
    {
     "name": "stdout",
     "output_type": "stream",
     "text": [
      "tensor([[1, 2],\n",
      "        [2, 3],\n",
      "        [3, 4]])\n",
      "torch.Size([3, 2])\n"
     ]
    },
    {
     "data": {
      "text/plain": [
       "tensor([1, 2, 2, 3, 3, 4])"
      ]
     },
     "execution_count": 5,
     "metadata": {},
     "output_type": "execute_result"
    }
   ],
   "source": [
    "#view 对原有的维度信息重排\n",
    "import torch\n",
    "a=torch.tensor([[1,2],[2,3],[3,4]])\n",
    "print(a)\n",
    "print(a.shape)\n",
    "a.view(6)#一个维度，该维度下的size长度为6"
   ]
  },
  {
   "cell_type": "code",
   "execution_count": 13,
   "metadata": {},
   "outputs": [
    {
     "name": "stdout",
     "output_type": "stream",
     "text": [
      "tensor([[[[0.2174, 0.2867, 0.3068, 0.5994, 0.9521],\n",
      "          [0.6173, 0.6100, 0.1303, 0.4854, 0.6735],\n",
      "          [0.1805, 0.5019, 0.1227, 0.4817, 0.1510],\n",
      "          [0.4710, 0.7513, 0.4348, 0.6821, 0.9308]]],\n",
      "\n",
      "\n",
      "        [[[0.7852, 0.6164, 0.9093, 0.5017, 0.0066],\n",
      "          [0.9406, 0.1054, 0.9700, 0.8031, 0.1847],\n",
      "          [0.9452, 0.9972, 0.3470, 0.7698, 0.4635],\n",
      "          [0.7816, 0.1602, 0.3575, 0.0869, 0.0405]]]])\n",
      "torch.Size([2, 1, 4, 5])\n",
      "\n",
      "\n",
      "tensor([[0.2174, 0.2867, 0.3068, 0.5994, 0.9521, 0.6173, 0.6100, 0.1303, 0.4854,\n",
      "         0.6735, 0.1805, 0.5019, 0.1227, 0.4817, 0.1510, 0.4710, 0.7513, 0.4348,\n",
      "         0.6821, 0.9308],\n",
      "        [0.7852, 0.6164, 0.9093, 0.5017, 0.0066, 0.9406, 0.1054, 0.9700, 0.8031,\n",
      "         0.1847, 0.9452, 0.9972, 0.3470, 0.7698, 0.4635, 0.7816, 0.1602, 0.3575,\n",
      "         0.0869, 0.0405]])\n",
      "torch.Size([2, 20])\n"
     ]
    }
   ],
   "source": [
    "import torch\n",
    "a=torch.rand(2,1,4,5)\n",
    "print(a)\n",
    "print(a.shape)\n",
    "print(\"\\n\")\n",
    "a=a.view(2,4*5)\n",
    "print(a)\n",
    "print(a.shape)"
   ]
  },
  {
   "cell_type": "code",
   "execution_count": 14,
   "metadata": {},
   "outputs": [
    {
     "data": {
      "text/plain": [
       "torch.Size([3, 3, 4, 5])"
      ]
     },
     "execution_count": 14,
     "metadata": {},
     "output_type": "execute_result"
    }
   ],
   "source": [
    "#添加维度信息 unsqueeze\n",
    "import torch\n",
    "a=torch.rand(3,3,4,5)\n",
    "print(a.shape)"
   ]
  },
  {
   "cell_type": "code",
   "execution_count": 15,
   "metadata": {},
   "outputs": [
    {
     "data": {
      "text/plain": [
       "torch.Size([1, 3, 3, 4, 5])"
      ]
     },
     "execution_count": 15,
     "metadata": {},
     "output_type": "execute_result"
    }
   ],
   "source": [
    "a.unsqueeze(0).shape #正数放前面，负数放后面"
   ]
  },
  {
   "cell_type": "code",
   "execution_count": 16,
   "metadata": {},
   "outputs": [
    {
     "data": {
      "text/plain": [
       "torch.Size([3, 3, 4, 5, 1])"
      ]
     },
     "execution_count": 16,
     "metadata": {},
     "output_type": "execute_result"
    }
   ],
   "source": [
    "a.unsqueeze(-1).shape"
   ]
  },
  {
   "cell_type": "code",
   "execution_count": 17,
   "metadata": {},
   "outputs": [
    {
     "data": {
      "text/plain": [
       "torch.Size([3, 3, 4, 5, 1])"
      ]
     },
     "execution_count": 17,
     "metadata": {},
     "output_type": "execute_result"
    }
   ],
   "source": [
    "a.unsqueeze(4).shape"
   ]
  },
  {
   "cell_type": "code",
   "execution_count": 18,
   "metadata": {},
   "outputs": [
    {
     "data": {
      "text/plain": [
       "torch.Size([3, 1, 3, 4, 5])"
      ]
     },
     "execution_count": 18,
     "metadata": {},
     "output_type": "execute_result"
    }
   ],
   "source": [
    "a.unsqueeze(-4).shape"
   ]
  },
  {
   "cell_type": "code",
   "execution_count": 19,
   "metadata": {},
   "outputs": [
    {
     "data": {
      "text/plain": [
       "torch.Size([3, 3, 4, 1, 5])"
      ]
     },
     "execution_count": 19,
     "metadata": {},
     "output_type": "execute_result"
    }
   ],
   "source": [
    "a.unsqueeze(-2).shape"
   ]
  },
  {
   "cell_type": "code",
   "execution_count": 22,
   "metadata": {},
   "outputs": [
    {
     "data": {
      "text/plain": [
       "torch.Size([1, 3, 1, 1])"
      ]
     },
     "execution_count": 22,
     "metadata": {},
     "output_type": "execute_result"
    }
   ],
   "source": [
    "#example\n",
    "import torch\n",
    "b=torch.rand(3)\n",
    "f=torch.rand(3,3,4,5)\n",
    "b=b.unsqueeze(0).unsqueeze(2).unsqueeze(3)\n",
    "b.shape"
   ]
  },
  {
   "cell_type": "code",
   "execution_count": 33,
   "metadata": {},
   "outputs": [
    {
     "name": "stdout",
     "output_type": "stream",
     "text": [
      "tensor([[[[0.1000],\n",
      "          [0.3911]],\n",
      "\n",
      "         [[0.2977],\n",
      "          [0.0347]],\n",
      "\n",
      "         [[0.6076],\n",
      "          [0.0851]]]])\n",
      "tensor([[0.1000, 0.3911],\n",
      "        [0.2977, 0.0347],\n",
      "        [0.6076, 0.0851]])\n"
     ]
    },
    {
     "data": {
      "text/plain": [
       "torch.Size([3, 2])"
      ]
     },
     "execution_count": 33,
     "metadata": {},
     "output_type": "execute_result"
    }
   ],
   "source": [
    "#挤压维度 \n",
    "import torch\n",
    "a=torch.rand(1,3,2,1)\n",
    "print(a)\n",
    "print(a.squeeze())\n",
    "a.squeeze().shape"
   ]
  },
  {
   "cell_type": "code",
   "execution_count": 40,
   "metadata": {},
   "outputs": [
    {
     "name": "stdout",
     "output_type": "stream",
     "text": [
      "tensor([[[[0.9692, 0.2110, 0.3410, 0.4367, 0.7768],\n",
      "          [0.1653, 0.4328, 0.5366, 0.2239, 0.3358],\n",
      "          [0.5937, 0.4381, 0.7164, 0.5870, 0.9485],\n",
      "          [0.8073, 0.7881, 0.1023, 0.7416, 0.1231]],\n",
      "\n",
      "         [[0.3362, 0.3258, 0.3519, 0.5405, 0.8766],\n",
      "          [0.3348, 0.7855, 0.1366, 0.7468, 0.5281],\n",
      "          [0.4714, 0.9728, 0.0383, 0.8488, 0.1043],\n",
      "          [0.4538, 0.7432, 0.3904, 0.8022, 0.1137]],\n",
      "\n",
      "         [[0.8616, 0.3477, 0.7084, 0.8183, 0.7124],\n",
      "          [0.3954, 0.0538, 0.0724, 0.2695, 0.4386],\n",
      "          [0.2058, 0.1529, 0.5361, 0.9729, 0.0283],\n",
      "          [0.7823, 0.1923, 0.4459, 0.2971, 0.5117]]],\n",
      "\n",
      "\n",
      "        [[[0.7962, 0.7621, 0.8383, 0.5848, 0.3256],\n",
      "          [0.2087, 0.9572, 0.7487, 0.9812, 0.2814],\n",
      "          [0.5913, 0.5653, 0.3399, 0.4649, 0.9601],\n",
      "          [0.3188, 0.1323, 0.0739, 0.8193, 0.8718]],\n",
      "\n",
      "         [[0.2484, 0.8759, 0.9424, 0.6758, 0.4608],\n",
      "          [0.7131, 0.1476, 0.3204, 0.9981, 0.1700],\n",
      "          [0.4464, 0.7068, 0.9979, 0.9567, 0.9814],\n",
      "          [0.2271, 0.3406, 0.8979, 0.5222, 0.2582]],\n",
      "\n",
      "         [[0.9672, 0.5737, 0.3190, 0.3092, 0.7810],\n",
      "          [0.5460, 0.1786, 0.0980, 0.8476, 0.3146],\n",
      "          [0.1738, 0.5959, 0.9147, 0.8635, 0.7117],\n",
      "          [0.3681, 0.9364, 0.8277, 0.1627, 0.5148]]]]) \n",
      "\n",
      "tensor([[[[0.7420]],\n",
      "\n",
      "         [[0.7191]],\n",
      "\n",
      "         [[0.5940]]]])\n",
      "tensor([[[[0.7420, 0.7420, 0.7420, 0.7420, 0.7420],\n",
      "          [0.7420, 0.7420, 0.7420, 0.7420, 0.7420],\n",
      "          [0.7420, 0.7420, 0.7420, 0.7420, 0.7420],\n",
      "          [0.7420, 0.7420, 0.7420, 0.7420, 0.7420]],\n",
      "\n",
      "         [[0.7191, 0.7191, 0.7191, 0.7191, 0.7191],\n",
      "          [0.7191, 0.7191, 0.7191, 0.7191, 0.7191],\n",
      "          [0.7191, 0.7191, 0.7191, 0.7191, 0.7191],\n",
      "          [0.7191, 0.7191, 0.7191, 0.7191, 0.7191]],\n",
      "\n",
      "         [[0.5940, 0.5940, 0.5940, 0.5940, 0.5940],\n",
      "          [0.5940, 0.5940, 0.5940, 0.5940, 0.5940],\n",
      "          [0.5940, 0.5940, 0.5940, 0.5940, 0.5940],\n",
      "          [0.5940, 0.5940, 0.5940, 0.5940, 0.5940]]],\n",
      "\n",
      "\n",
      "        [[[0.7420, 0.7420, 0.7420, 0.7420, 0.7420],\n",
      "          [0.7420, 0.7420, 0.7420, 0.7420, 0.7420],\n",
      "          [0.7420, 0.7420, 0.7420, 0.7420, 0.7420],\n",
      "          [0.7420, 0.7420, 0.7420, 0.7420, 0.7420]],\n",
      "\n",
      "         [[0.7191, 0.7191, 0.7191, 0.7191, 0.7191],\n",
      "          [0.7191, 0.7191, 0.7191, 0.7191, 0.7191],\n",
      "          [0.7191, 0.7191, 0.7191, 0.7191, 0.7191],\n",
      "          [0.7191, 0.7191, 0.7191, 0.7191, 0.7191]],\n",
      "\n",
      "         [[0.5940, 0.5940, 0.5940, 0.5940, 0.5940],\n",
      "          [0.5940, 0.5940, 0.5940, 0.5940, 0.5940],\n",
      "          [0.5940, 0.5940, 0.5940, 0.5940, 0.5940],\n",
      "          [0.5940, 0.5940, 0.5940, 0.5940, 0.5940]]]])\n",
      "tensor([[[[0.7420]],\n",
      "\n",
      "         [[0.7191]],\n",
      "\n",
      "         [[0.5940]]]])\n",
      "tensor([[[[0.7420]],\n",
      "\n",
      "         [[0.7191]],\n",
      "\n",
      "         [[0.5940]]]])\n"
     ]
    },
    {
     "data": {
      "text/plain": [
       "torch.Size([1, 3, 1, 1])"
      ]
     },
     "execution_count": 40,
     "metadata": {},
     "output_type": "execute_result"
    }
   ],
   "source": [
    "#expend 维度里的size扩充\n",
    "import torch\n",
    "a=torch.rand(2,3,4,5)\n",
    "print(a,\"\\n\")\n",
    "b=torch.rand(1,3,1,1)\n",
    "print(b)\n",
    "print(b.expand(2,3,4,5))\n",
    "b.expand(2,3,4,5).shape\n",
    "\n",
    "print(b)\n",
    "print(b.expand(-1,3,-1,-1)) #-1指示维度不发生变化\n",
    "b.expand(-1,3,-1,-1).shape"
   ]
  },
  {
   "cell_type": "code",
   "execution_count": 44,
   "metadata": {},
   "outputs": [
    {
     "name": "stdout",
     "output_type": "stream",
     "text": [
      "tensor([[[[0.6004, 0.1467, 0.6945, 0.7373],\n",
      "          [0.6998, 0.8153, 0.4561, 0.1832]],\n",
      "\n",
      "         [[0.2132, 0.0564, 0.8540, 0.9952],\n",
      "          [0.1038, 0.1751, 0.7577, 0.2783]]]])\n",
      "tensor([[[[0.6004, 0.1467, 0.6945, 0.7373],\n",
      "          [0.6998, 0.8153, 0.4561, 0.1832]],\n",
      "\n",
      "         [[0.2132, 0.0564, 0.8540, 0.9952],\n",
      "          [0.1038, 0.1751, 0.7577, 0.2783]]],\n",
      "\n",
      "\n",
      "        [[[0.6004, 0.1467, 0.6945, 0.7373],\n",
      "          [0.6998, 0.8153, 0.4561, 0.1832]],\n",
      "\n",
      "         [[0.2132, 0.0564, 0.8540, 0.9952],\n",
      "          [0.1038, 0.1751, 0.7577, 0.2783]]],\n",
      "\n",
      "\n",
      "        [[[0.6004, 0.1467, 0.6945, 0.7373],\n",
      "          [0.6998, 0.8153, 0.4561, 0.1832]],\n",
      "\n",
      "         [[0.2132, 0.0564, 0.8540, 0.9952],\n",
      "          [0.1038, 0.1751, 0.7577, 0.2783]]],\n",
      "\n",
      "\n",
      "        [[[0.6004, 0.1467, 0.6945, 0.7373],\n",
      "          [0.6998, 0.8153, 0.4561, 0.1832]],\n",
      "\n",
      "         [[0.2132, 0.0564, 0.8540, 0.9952],\n",
      "          [0.1038, 0.1751, 0.7577, 0.2783]]]])\n"
     ]
    },
    {
     "data": {
      "text/plain": [
       "torch.Size([4, 2, 2, 4])"
      ]
     },
     "execution_count": 44,
     "metadata": {},
     "output_type": "execute_result"
    }
   ],
   "source": [
    "#repeat 维度相乘为后面的\n",
    "import torch\n",
    "a=torch.rand(1,2,2,4)\n",
    "print(a)\n",
    "b=a.repeat(4,1,1,1)\n",
    "print(b)\n",
    "\n",
    "b.shape"
   ]
  },
  {
   "cell_type": "code",
   "execution_count": 45,
   "metadata": {},
   "outputs": [
    {
     "name": "stdout",
     "output_type": "stream",
     "text": [
      "tensor([[0.8759, 0.8730],\n",
      "        [0.9429, 0.4904]])\n",
      "tensor([[0.8759, 0.9429],\n",
      "        [0.8730, 0.4904]])\n"
     ]
    }
   ],
   "source": [
    "#矩阵的转置\n",
    "import torch\n",
    "a=torch.rand(2,2)\n",
    "print(a)\n",
    "b=a.t()\n",
    "print(b)"
   ]
  },
  {
   "cell_type": "code",
   "execution_count": 47,
   "metadata": {},
   "outputs": [
    {
     "name": "stdout",
     "output_type": "stream",
     "text": [
      "torch.Size([4, 3, 2, 5])\n"
     ]
    },
    {
     "data": {
      "text/plain": [
       "tensor(False)"
      ]
     },
     "execution_count": 47,
     "metadata": {},
     "output_type": "execute_result"
    }
   ],
   "source": [
    "#transpose 维度交换\n",
    "import torch\n",
    "a=torch.rand(4,3,2,5)\n",
    "print(a.shape)\n",
    "a1=a.transpose(1,3).contiguous().view(4,3*2*5).view(4,3,2,5)\n",
    "a2=a.transpose(1,3).contiguous().view(4,3*2*5).view(4,5,2,3).transpose(1,3)\n",
    "\n",
    "torch.all(torch.eq(a,a1))\n"
   ]
  },
  {
   "cell_type": "code",
   "execution_count": 48,
   "metadata": {},
   "outputs": [
    {
     "data": {
      "text/plain": [
       "tensor(True)"
      ]
     },
     "execution_count": 48,
     "metadata": {},
     "output_type": "execute_result"
    }
   ],
   "source": [
    "torch.all(torch.eq(a,a2))"
   ]
  },
  {
   "cell_type": "code",
   "execution_count": 49,
   "metadata": {},
   "outputs": [
    {
     "name": "stdout",
     "output_type": "stream",
     "text": [
      "torch.Size([4, 3, 2, 1])\n"
     ]
    },
    {
     "data": {
      "text/plain": [
       "torch.Size([4, 2, 1, 3])"
      ]
     },
     "execution_count": 49,
     "metadata": {},
     "output_type": "execute_result"
    }
   ],
   "source": [
    "#permute 直接按索引指示维度重排\n",
    "import torch\n",
    "a=torch.rand(4,3,2,1)\n",
    "print(a.shape)\n",
    "b=a.permute(0,2,3,1)\n",
    "b.shape"
   ]
  },
  {
   "cell_type": "code",
   "execution_count": null,
   "metadata": {},
   "outputs": [],
   "source": []
  }
 ],
 "metadata": {
  "kernelspec": {
   "display_name": "Python 3",
   "language": "python",
   "name": "python3"
  },
  "language_info": {
   "codemirror_mode": {
    "name": "ipython",
    "version": 3
   },
   "file_extension": ".py",
   "mimetype": "text/x-python",
   "name": "python",
   "nbconvert_exporter": "python",
   "pygments_lexer": "ipython3",
   "version": "3.7.6"
  }
 },
 "nbformat": 4,
 "nbformat_minor": 4
}
